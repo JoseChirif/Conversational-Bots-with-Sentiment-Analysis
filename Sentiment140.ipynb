{
 "cells": [
  {
   "cell_type": "code",
   "execution_count": 1,
   "id": "aae449a3-bb5b-47e1-bcea-3bb649929638",
   "metadata": {},
   "outputs": [],
   "source": [
    "import pandas as pd"
   ]
  },
  {
   "cell_type": "code",
   "execution_count": 2,
   "id": "f8976f31-0030-4974-83f3-b5bd5789e260",
   "metadata": {},
   "outputs": [],
   "source": [
    "# Lista de URLs de los archivos CSV\n",
    "urls = [\n",
    "    \"https://raw.githubusercontent.com/JoseChirif/NPL-project/main/data/parte_1.csv\",\n",
    "    \"https://raw.githubusercontent.com/JoseChirif/NPL-project/main/data/parte_2.csv\",\n",
    "    \"https://raw.githubusercontent.com/JoseChirif/NPL-project/main/data/parte_3.csv\",\n",
    "    \"https://raw.githubusercontent.com/JoseChirif/NPL-project/main/data/parte_4.csv\",\n",
    "    \"https://raw.githubusercontent.com/JoseChirif/NPL-project/main/data/parte_5.csv\",\n",
    "    \"https://raw.githubusercontent.com/JoseChirif/NPL-project/main/data/parte_6.csv\",\n",
    "    \"https://raw.githubusercontent.com/JoseChirif/NPL-project/main/data/parte_7.csv\",\n",
    "    \"https://raw.githubusercontent.com/JoseChirif/NPL-project/main/data/parte_8.csv\",\n",
    "]"
   ]
  },
  {
   "cell_type": "code",
   "execution_count": null,
   "id": "b02e627b-6d7d-4ca3-bd97-20da99429afc",
   "metadata": {},
   "outputs": [],
   "source": [
    "# Encabezados del dataset\n",
    "columnas = [\"polarity\", \"id\", \"date\", \"query\", \"user\", \"text\"]\n",
    "\n",
    "# Leer los archivos CSV sin encabezados y asignar los nombres de columnas\n",
    "dataframes = [pd.read_csv(url, header=None, names=columnas) for url in urls]\n",
    "\n",
    "# Combinar todos los DataFrames en uno solo\n",
    "dataset = pd.concat(dataframes, ignore_index=True)\n",
    "\n",
    "# Visualizar el resultado\n",
    "print(f\"Dataset combinado tiene {dataset.shape[0]} filas y {dataset.shape[1]} columnas.\")\n",
    "dataset.head()"
   ]
  },
  {
   "cell_type": "code",
   "execution_count": null,
   "id": "3c71257d-0cf2-43da-adee-d441879900bf",
   "metadata": {},
   "outputs": [],
   "source": [
    "dataset['polarity'].value_counts()"
   ]
  },
  {
   "cell_type": "code",
   "execution_count": null,
   "id": "0cc1e5de-b979-4b60-8e8a-101a2fb90d22",
   "metadata": {},
   "outputs": [],
   "source": [
    "# Filtrar solo las columnas relevantes (polarity y text)\n",
    "dataset = dataset[['polarity', 'text']]\n",
    "\n",
    "# Convertir las etiquetas de polaridad para que sean más legibles\n",
    "dataset['polarity'] = dataset['polarity'].map({0: 'negativo', 2: 'neutro', 4: 'positivo'})\n",
    "\n",
    "print(\"dataset columnas relevantes\")\n",
    "dataset.head()"
   ]
  },
  {
   "cell_type": "code",
   "execution_count": null,
   "id": "746d7d19-44b1-4456-b552-e73af187b2bb",
   "metadata": {},
   "outputs": [],
   "source": [
    "import re\n",
    "\n",
    "# Función para limpiar el texto\n",
    "def limpiar_texto(texto):\n",
    "    texto = re.sub(r\"http\\S+|www\\S+|https\\S+\", '', texto, flags=re.MULTILINE)  # Eliminar URLs\n",
    "    texto = re.sub(r'\\@\\w+|\\#', '', texto)  # Eliminar menciones y hashtags\n",
    "    texto = texto.strip()  # Quitar espacios en los extremos\n",
    "    return texto\n",
    "\n",
    "# Aplicar la función de limpieza\n",
    "dataset['text'] = dataset['text'].apply(limpiar_texto)\n",
    "dataset.head()\n"
   ]
  },
  {
   "cell_type": "code",
   "execution_count": null,
   "id": "45b7dc1e-b03e-425c-b2ce-26d598fea35d",
   "metadata": {},
   "outputs": [],
   "source": [
    "dataset.head(100)"
   ]
  },
  {
   "cell_type": "code",
   "execution_count": null,
   "id": "f29acaae-9d80-4c69-adf3-43850ed0e1ba",
   "metadata": {},
   "outputs": [],
   "source": [
    "dataset['polarity'].value_counts()"
   ]
  }
 ],
 "metadata": {
  "kernelspec": {
   "display_name": "Venv cursos",
   "language": "python",
   "name": "venv_cursos"
  },
  "language_info": {
   "codemirror_mode": {
    "name": "ipython",
    "version": 3
   },
   "file_extension": ".py",
   "mimetype": "text/x-python",
   "name": "python",
   "nbconvert_exporter": "python",
   "pygments_lexer": "ipython3",
   "version": "3.11.5"
  }
 },
 "nbformat": 4,
 "nbformat_minor": 5
}
